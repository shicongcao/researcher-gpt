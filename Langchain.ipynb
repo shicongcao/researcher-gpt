{
 "cells": [
  {
   "cell_type": "markdown",
   "metadata": {},
   "source": [
    "# Run LLM locally"
   ]
  },
  {
   "cell_type": "code",
   "execution_count": 5,
   "metadata": {},
   "outputs": [],
   "source": [
    "from gpt4all import GPT4All"
   ]
  },
  {
   "cell_type": "code",
   "execution_count": 7,
   "metadata": {},
   "outputs": [],
   "source": [
    "!pip install ctransformers>=0.2.24"
   ]
  },
  {
   "cell_type": "code",
   "execution_count": 8,
   "metadata": {},
   "outputs": [
    {
     "name": "stderr",
     "output_type": "stream",
     "text": [
      "c:\\Users\\shicong.cao\\AppData\\Local\\anaconda3\\envs\\gpt\\lib\\site-packages\\tqdm\\auto.py:21: TqdmWarning: IProgress not found. Please update jupyter and ipywidgets. See https://ipywidgets.readthedocs.io/en/stable/user_install.html\n",
      "  from .autonotebook import tqdm as notebook_tqdm\n"
     ]
    }
   ],
   "source": [
    "from ctransformers import AutoModelForCausalLM"
   ]
  },
  {
   "cell_type": "code",
   "execution_count": 9,
   "metadata": {},
   "outputs": [
    {
     "name": "stderr",
     "output_type": "stream",
     "text": [
      "Fetching 0 files: 0it [00:00, ?it/s]\n",
      "Fetching 1 files: 100%|██████████| 1/1 [00:00<?, ?it/s]\n"
     ]
    }
   ],
   "source": [
    "from langchain.llms import CTransformers\n",
    "llm = CTransformers(model=\"morgendigital/Llama-2-13b-chat-german-GGUF\", model_file=\"Llama-2-13b-chat-german-GGUF.q5_K_M.bin\", model_type=\"llama\")"
   ]
  },
  {
   "cell_type": "code",
   "execution_count": 12,
   "metadata": {},
   "outputs": [],
   "source": [
    "from langchain import PromptTemplate,  LLMChain\n",
    "\n",
    "template = \"\"\"\n",
    "              Sie sind ein professioneller Assistent. Bitte antworten Sie vollständig auf Deutsch\n",
    "              ```{text}```\n",
    "           \"\"\"\n",
    "\n",
    "prompt = PromptTemplate(template=template, input_variables=[\"text\"])\n",
    "\n",
    "llm_chain = LLMChain(prompt=prompt, llm=llm)"
   ]
  },
  {
   "cell_type": "code",
   "execution_count": 13,
   "metadata": {},
   "outputs": [
    {
     "name": "stdout",
     "output_type": "stream",
     "text": [
      " In Krankenhäusern werden Nassräume, wie Badezimmer und Duschkabinen, aufgrund der Barrierefreiheitsanforderungen entsprechend den Richtlinien geplant und ausgestattet. Diese Anforderungen richten sich nach der Verordnung über die barrierefreie Gestaltung von Gebäuden (Barrierefreiheitsverordnung - BVG).\n",
      "\n",
      "Die wichtigsten Barrierefreiheitsanforderungen für Nassräume in Krankenhäusern sind:\n",
      "\n",
      "1. Tauglichkeit für Menschen mit körperlichen Beeinträchtigungen oder Sehbeeinträchtigungen: Der Raum muss so gestaltet sein, dass er jeder Person mit körperlicher Beeinträchtigung oder Sehbeeinträchtigung zugänglich ist. Zum Beispiel sollten Badewannen einen niedrigen Ein- und Ausstieg bieten.\n",
      "2. Anpassbare Wannenhöhe: Die Badewanne muss so geplant sein, dass sie an verschiedene Körpergrößen angepasst werden kann und Personen mit körperlicher Beeinträchtigung\n"
     ]
    }
   ],
   "source": [
    "text1 = \"\"\"\n",
    "Welche Anforderungen werden an Nassräume im Hinblick auf die Barrierefreiheit in einem Krankenhaus gestellt?\n",
    "\"\"\"\n",
    "\n",
    "print(llm_chain.run(text1))"
   ]
  },
  {
   "cell_type": "code",
   "execution_count": 14,
   "metadata": {},
   "outputs": [
    {
     "name": "stdout",
     "output_type": "stream",
     "text": [
      "Requirement already satisfied: gradio in c:\\users\\shicong.cao\\appdata\\local\\anaconda3\\envs\\gpt\\lib\\site-packages (3.40.1)\n",
      "Requirement already satisfied: aiofiles<24.0,>=22.0 in c:\\users\\shicong.cao\\appdata\\local\\anaconda3\\envs\\gpt\\lib\\site-packages (from gradio) (23.2.1)\n",
      "Requirement already satisfied: aiohttp~=3.0 in c:\\users\\shicong.cao\\appdata\\local\\anaconda3\\envs\\gpt\\lib\\site-packages (from gradio) (3.8.5)\n",
      "Requirement already satisfied: altair<6.0,>=4.2.0 in c:\\users\\shicong.cao\\appdata\\local\\anaconda3\\envs\\gpt\\lib\\site-packages (from gradio) (5.0.1)\n",
      "Requirement already satisfied: fastapi in c:\\users\\shicong.cao\\appdata\\local\\anaconda3\\envs\\gpt\\lib\\site-packages (from gradio) (0.99.1)\n",
      "Requirement already satisfied: ffmpy in c:\\users\\shicong.cao\\appdata\\local\\anaconda3\\envs\\gpt\\lib\\site-packages (from gradio) (0.3.1)\n",
      "Requirement already satisfied: gradio-client>=0.4.0 in c:\\users\\shicong.cao\\appdata\\local\\anaconda3\\envs\\gpt\\lib\\site-packages (from gradio) (0.4.0)\n",
      "Requirement already satisfied: httpx in c:\\users\\shicong.cao\\appdata\\local\\anaconda3\\envs\\gpt\\lib\\site-packages (from gradio) (0.24.1)\n",
      "Requirement already satisfied: huggingface-hub>=0.14.0 in c:\\users\\shicong.cao\\appdata\\local\\anaconda3\\envs\\gpt\\lib\\site-packages (from gradio) (0.16.4)\n",
      "Requirement already satisfied: importlib-resources<7.0,>=1.3 in c:\\users\\shicong.cao\\appdata\\local\\anaconda3\\envs\\gpt\\lib\\site-packages (from gradio) (6.0.1)\n",
      "Requirement already satisfied: jinja2<4.0 in c:\\users\\shicong.cao\\appdata\\local\\anaconda3\\envs\\gpt\\lib\\site-packages (from gradio) (3.1.2)\n",
      "Requirement already satisfied: markdown-it-py[linkify]>=2.0.0 in c:\\users\\shicong.cao\\appdata\\local\\anaconda3\\envs\\gpt\\lib\\site-packages (from gradio) (2.2.0)\n",
      "Requirement already satisfied: markupsafe~=2.0 in c:\\users\\shicong.cao\\appdata\\local\\anaconda3\\envs\\gpt\\lib\\site-packages (from gradio) (2.1.3)\n",
      "Requirement already satisfied: matplotlib~=3.0 in c:\\users\\shicong.cao\\appdata\\local\\anaconda3\\envs\\gpt\\lib\\site-packages (from gradio) (3.7.2)\n",
      "Requirement already satisfied: mdit-py-plugins<=0.3.3 in c:\\users\\shicong.cao\\appdata\\local\\anaconda3\\envs\\gpt\\lib\\site-packages (from gradio) (0.3.3)\n",
      "Requirement already satisfied: numpy~=1.0 in c:\\users\\shicong.cao\\appdata\\local\\anaconda3\\envs\\gpt\\lib\\site-packages (from gradio) (1.25.2)\n",
      "Requirement already satisfied: orjson~=3.0 in c:\\users\\shicong.cao\\appdata\\local\\anaconda3\\envs\\gpt\\lib\\site-packages (from gradio) (3.9.5)\n",
      "Requirement already satisfied: packaging in c:\\users\\shicong.cao\\appdata\\local\\anaconda3\\envs\\gpt\\lib\\site-packages (from gradio) (23.1)\n",
      "Requirement already satisfied: pandas<3.0,>=1.0 in c:\\users\\shicong.cao\\appdata\\local\\anaconda3\\envs\\gpt\\lib\\site-packages (from gradio) (2.0.3)\n",
      "Requirement already satisfied: pillow<11.0,>=8.0 in c:\\users\\shicong.cao\\appdata\\local\\anaconda3\\envs\\gpt\\lib\\site-packages (from gradio) (9.5.0)\n",
      "Requirement already satisfied: pydantic!=1.8,!=1.8.1,!=2.0.0,!=2.0.1,<3.0.0,>=1.7.4 in c:\\users\\shicong.cao\\appdata\\local\\anaconda3\\envs\\gpt\\lib\\site-packages (from gradio) (1.10.12)\n",
      "Requirement already satisfied: pydub in c:\\users\\shicong.cao\\appdata\\local\\anaconda3\\envs\\gpt\\lib\\site-packages (from gradio) (0.25.1)\n",
      "Requirement already satisfied: python-multipart in c:\\users\\shicong.cao\\appdata\\local\\anaconda3\\envs\\gpt\\lib\\site-packages (from gradio) (0.0.6)\n",
      "Requirement already satisfied: pyyaml<7.0,>=5.0 in c:\\users\\shicong.cao\\appdata\\local\\anaconda3\\envs\\gpt\\lib\\site-packages (from gradio) (6.0.1)\n",
      "Requirement already satisfied: requests~=2.0 in c:\\users\\shicong.cao\\appdata\\local\\anaconda3\\envs\\gpt\\lib\\site-packages (from gradio) (2.31.0)\n",
      "Requirement already satisfied: semantic-version~=2.0 in c:\\users\\shicong.cao\\appdata\\local\\anaconda3\\envs\\gpt\\lib\\site-packages (from gradio) (2.10.0)\n",
      "Requirement already satisfied: typing-extensions~=4.0 in c:\\users\\shicong.cao\\appdata\\local\\anaconda3\\envs\\gpt\\lib\\site-packages (from gradio) (4.7.1)\n",
      "Requirement already satisfied: uvicorn>=0.14.0 in c:\\users\\shicong.cao\\appdata\\local\\anaconda3\\envs\\gpt\\lib\\site-packages (from gradio) (0.23.2)\n",
      "Requirement already satisfied: websockets<12.0,>=10.0 in c:\\users\\shicong.cao\\appdata\\local\\anaconda3\\envs\\gpt\\lib\\site-packages (from gradio) (11.0.3)\n",
      "Requirement already satisfied: attrs>=17.3.0 in c:\\users\\shicong.cao\\appdata\\local\\anaconda3\\envs\\gpt\\lib\\site-packages (from aiohttp~=3.0->gradio) (23.1.0)\n",
      "Requirement already satisfied: charset-normalizer<4.0,>=2.0 in c:\\users\\shicong.cao\\appdata\\local\\anaconda3\\envs\\gpt\\lib\\site-packages (from aiohttp~=3.0->gradio) (3.2.0)\n",
      "Requirement already satisfied: multidict<7.0,>=4.5 in c:\\users\\shicong.cao\\appdata\\local\\anaconda3\\envs\\gpt\\lib\\site-packages (from aiohttp~=3.0->gradio) (6.0.4)\n",
      "Requirement already satisfied: async-timeout<5.0,>=4.0.0a3 in c:\\users\\shicong.cao\\appdata\\local\\anaconda3\\envs\\gpt\\lib\\site-packages (from aiohttp~=3.0->gradio) (4.0.3)\n",
      "Requirement already satisfied: yarl<2.0,>=1.0 in c:\\users\\shicong.cao\\appdata\\local\\anaconda3\\envs\\gpt\\lib\\site-packages (from aiohttp~=3.0->gradio) (1.9.2)\n",
      "Requirement already satisfied: frozenlist>=1.1.1 in c:\\users\\shicong.cao\\appdata\\local\\anaconda3\\envs\\gpt\\lib\\site-packages (from aiohttp~=3.0->gradio) (1.4.0)\n",
      "Requirement already satisfied: aiosignal>=1.1.2 in c:\\users\\shicong.cao\\appdata\\local\\anaconda3\\envs\\gpt\\lib\\site-packages (from aiohttp~=3.0->gradio) (1.3.1)\n",
      "Requirement already satisfied: jsonschema>=3.0 in c:\\users\\shicong.cao\\appdata\\local\\anaconda3\\envs\\gpt\\lib\\site-packages (from altair<6.0,>=4.2.0->gradio) (4.19.0)\n",
      "Requirement already satisfied: toolz in c:\\users\\shicong.cao\\appdata\\local\\anaconda3\\envs\\gpt\\lib\\site-packages (from altair<6.0,>=4.2.0->gradio) (0.12.0)\n",
      "Requirement already satisfied: fsspec in c:\\users\\shicong.cao\\appdata\\local\\anaconda3\\envs\\gpt\\lib\\site-packages (from gradio-client>=0.4.0->gradio) (2023.6.0)\n",
      "Requirement already satisfied: filelock in c:\\users\\shicong.cao\\appdata\\local\\anaconda3\\envs\\gpt\\lib\\site-packages (from huggingface-hub>=0.14.0->gradio) (3.12.2)\n",
      "Requirement already satisfied: tqdm>=4.42.1 in c:\\users\\shicong.cao\\appdata\\local\\anaconda3\\envs\\gpt\\lib\\site-packages (from huggingface-hub>=0.14.0->gradio) (4.66.1)\n",
      "Requirement already satisfied: mdurl~=0.1 in c:\\users\\shicong.cao\\appdata\\local\\anaconda3\\envs\\gpt\\lib\\site-packages (from markdown-it-py[linkify]>=2.0.0->gradio) (0.1.2)\n",
      "Requirement already satisfied: linkify-it-py<3,>=1 in c:\\users\\shicong.cao\\appdata\\local\\anaconda3\\envs\\gpt\\lib\\site-packages (from markdown-it-py[linkify]>=2.0.0->gradio) (2.0.2)\n",
      "Requirement already satisfied: contourpy>=1.0.1 in c:\\users\\shicong.cao\\appdata\\local\\anaconda3\\envs\\gpt\\lib\\site-packages (from matplotlib~=3.0->gradio) (1.1.0)\n",
      "Requirement already satisfied: cycler>=0.10 in c:\\users\\shicong.cao\\appdata\\local\\anaconda3\\envs\\gpt\\lib\\site-packages (from matplotlib~=3.0->gradio) (0.11.0)\n",
      "Requirement already satisfied: fonttools>=4.22.0 in c:\\users\\shicong.cao\\appdata\\local\\anaconda3\\envs\\gpt\\lib\\site-packages (from matplotlib~=3.0->gradio) (4.42.1)\n",
      "Requirement already satisfied: kiwisolver>=1.0.1 in c:\\users\\shicong.cao\\appdata\\local\\anaconda3\\envs\\gpt\\lib\\site-packages (from matplotlib~=3.0->gradio) (1.4.4)\n",
      "Requirement already satisfied: pyparsing<3.1,>=2.3.1 in c:\\users\\shicong.cao\\appdata\\local\\anaconda3\\envs\\gpt\\lib\\site-packages (from matplotlib~=3.0->gradio) (3.0.9)\n",
      "Requirement already satisfied: python-dateutil>=2.7 in c:\\users\\shicong.cao\\appdata\\local\\anaconda3\\envs\\gpt\\lib\\site-packages (from matplotlib~=3.0->gradio) (2.8.2)\n",
      "Requirement already satisfied: pytz>=2020.1 in c:\\users\\shicong.cao\\appdata\\local\\anaconda3\\envs\\gpt\\lib\\site-packages (from pandas<3.0,>=1.0->gradio) (2023.3)\n",
      "Requirement already satisfied: tzdata>=2022.1 in c:\\users\\shicong.cao\\appdata\\local\\anaconda3\\envs\\gpt\\lib\\site-packages (from pandas<3.0,>=1.0->gradio) (2023.3)\n",
      "Requirement already satisfied: idna<4,>=2.5 in c:\\users\\shicong.cao\\appdata\\local\\anaconda3\\envs\\gpt\\lib\\site-packages (from requests~=2.0->gradio) (3.4)\n",
      "Requirement already satisfied: urllib3<3,>=1.21.1 in c:\\users\\shicong.cao\\appdata\\local\\anaconda3\\envs\\gpt\\lib\\site-packages (from requests~=2.0->gradio) (2.0.4)\n",
      "Requirement already satisfied: certifi>=2017.4.17 in c:\\users\\shicong.cao\\appdata\\local\\anaconda3\\envs\\gpt\\lib\\site-packages (from requests~=2.0->gradio) (2023.7.22)\n",
      "Requirement already satisfied: click>=7.0 in c:\\users\\shicong.cao\\appdata\\local\\anaconda3\\envs\\gpt\\lib\\site-packages (from uvicorn>=0.14.0->gradio) (8.1.7)\n",
      "Requirement already satisfied: h11>=0.8 in c:\\users\\shicong.cao\\appdata\\local\\anaconda3\\envs\\gpt\\lib\\site-packages (from uvicorn>=0.14.0->gradio) (0.14.0)\n",
      "Requirement already satisfied: starlette<0.28.0,>=0.27.0 in c:\\users\\shicong.cao\\appdata\\local\\anaconda3\\envs\\gpt\\lib\\site-packages (from fastapi->gradio) (0.27.0)\n",
      "Requirement already satisfied: httpcore<0.18.0,>=0.15.0 in c:\\users\\shicong.cao\\appdata\\local\\anaconda3\\envs\\gpt\\lib\\site-packages (from httpx->gradio) (0.17.3)\n",
      "Requirement already satisfied: sniffio in c:\\users\\shicong.cao\\appdata\\local\\anaconda3\\envs\\gpt\\lib\\site-packages (from httpx->gradio) (1.3.0)\n",
      "Requirement already satisfied: colorama in c:\\users\\shicong.cao\\appdata\\local\\anaconda3\\envs\\gpt\\lib\\site-packages (from click>=7.0->uvicorn>=0.14.0->gradio) (0.4.6)\n",
      "Requirement already satisfied: anyio<5.0,>=3.0 in c:\\users\\shicong.cao\\appdata\\local\\anaconda3\\envs\\gpt\\lib\\site-packages (from httpcore<0.18.0,>=0.15.0->httpx->gradio) (3.7.1)\n",
      "Requirement already satisfied: jsonschema-specifications>=2023.03.6 in c:\\users\\shicong.cao\\appdata\\local\\anaconda3\\envs\\gpt\\lib\\site-packages (from jsonschema>=3.0->altair<6.0,>=4.2.0->gradio) (2023.7.1)\n",
      "Requirement already satisfied: referencing>=0.28.4 in c:\\users\\shicong.cao\\appdata\\local\\anaconda3\\envs\\gpt\\lib\\site-packages (from jsonschema>=3.0->altair<6.0,>=4.2.0->gradio) (0.30.2)\n",
      "Requirement already satisfied: rpds-py>=0.7.1 in c:\\users\\shicong.cao\\appdata\\local\\anaconda3\\envs\\gpt\\lib\\site-packages (from jsonschema>=3.0->altair<6.0,>=4.2.0->gradio) (0.9.2)\n",
      "Requirement already satisfied: uc-micro-py in c:\\users\\shicong.cao\\appdata\\local\\anaconda3\\envs\\gpt\\lib\\site-packages (from linkify-it-py<3,>=1->markdown-it-py[linkify]>=2.0.0->gradio) (1.0.2)\n",
      "Requirement already satisfied: six>=1.5 in c:\\users\\shicong.cao\\appdata\\local\\anaconda3\\envs\\gpt\\lib\\site-packages (from python-dateutil>=2.7->matplotlib~=3.0->gradio) (1.16.0)\n",
      "Requirement already satisfied: exceptiongroup in c:\\users\\shicong.cao\\appdata\\local\\anaconda3\\envs\\gpt\\lib\\site-packages (from anyio<5.0,>=3.0->httpcore<0.18.0,>=0.15.0->httpx->gradio) (1.1.3)\n"
     ]
    }
   ],
   "source": [
    "!pip install gradio"
   ]
  },
  {
   "cell_type": "code",
   "execution_count": 15,
   "metadata": {},
   "outputs": [],
   "source": [
    "import os\n",
    "import io\n",
    "from IPython.display import Image, display, HTML\n",
    "from PIL import Image\n",
    "import base64 \n",
    "import requests, json"
   ]
  },
  {
   "cell_type": "code",
   "execution_count": 16,
   "metadata": {},
   "outputs": [],
   "source": [
    "import gradio as gr"
   ]
  },
  {
   "cell_type": "code",
   "execution_count": 17,
   "metadata": {},
   "outputs": [
    {
     "name": "stdout",
     "output_type": "stream",
     "text": [
      "Running on local URL:  http://127.0.0.1:7860\n",
      "Running on public URL: https://49460920637b5b548a.gradio.live\n",
      "\n",
      "This share link expires in 72 hours. For free permanent hosting and GPU upgrades, run `gradio deploy` from Terminal to deploy to Spaces (https://huggingface.co/spaces)\n"
     ]
    },
    {
     "data": {
      "text/html": [
       "<div><iframe src=\"https://49460920637b5b548a.gradio.live\" width=\"100%\" height=\"500\" allow=\"autoplay; camera; microphone; clipboard-read; clipboard-write;\" frameborder=\"0\" allowfullscreen></iframe></div>"
      ],
      "text/plain": [
       "<IPython.core.display.HTML object>"
      ]
     },
     "metadata": {},
     "output_type": "display_data"
    },
    {
     "data": {
      "text/plain": []
     },
     "execution_count": 17,
     "metadata": {},
     "output_type": "execute_result"
    }
   ],
   "source": [
    "def answer(input):\n",
    "    output = llm_chain.run(input)\n",
    "    return output\n",
    "\n",
    "server_port = int(os.environ.get('PORT1', 7860))\n",
    "    \n",
    "gr.close_all()\n",
    "demo = gr.Interface(fn=answer, \n",
    "                    inputs=[gr.Textbox(label=\"Your Question\", lines=6)],\n",
    "                    outputs=[gr.Textbox(label=\"Result\", lines=3)],\n",
    "                    title=\"Question Answer in German\",\n",
    "                   )\n",
    "demo.launch(share=True, server_port=server_port)"
   ]
  },
  {
   "cell_type": "markdown",
   "metadata": {},
   "source": [
    "# PDF retrieval"
   ]
  },
  {
   "cell_type": "markdown",
   "metadata": {},
   "source": [
    "## Load and Split the document"
   ]
  },
  {
   "cell_type": "code",
   "execution_count": 42,
   "metadata": {},
   "outputs": [
    {
     "name": "stdout",
     "output_type": "stream",
     "text": [
      "Found model file at  C:\\\\Users\\\\shicong.cao\\\\Documents\\\\llama-2-13b-chat.ggmlv3.q3_K_S.bin\n"
     ]
    }
   ],
   "source": [
    "model = GPT4All(\"C:\\\\Users\\\\shicong.cao\\\\Documents\\\\llama-2-13b-chat.ggmlv3.q3_K_S.bin\")"
   ]
  },
  {
   "cell_type": "code",
   "execution_count": 7,
   "metadata": {},
   "outputs": [],
   "source": [
    "from langchain.document_loaders import PyPDFLoader\n",
    "\n",
    "loader = PyPDFLoader('Q:\\daten\\982-BIM_int\\_MA\\Cao\\Langchain\\DIN-13080_06-2016_ENGLISCH.pdf')\n",
    "\n",
    "doc= loader.load()"
   ]
  },
  {
   "cell_type": "code",
   "execution_count": 8,
   "metadata": {},
   "outputs": [],
   "source": [
    "from langchain.text_splitter import RecursiveCharacterTextSplitter\n",
    "\n",
    "text_splitter = RecursiveCharacterTextSplitter(\n",
    "                chunk_size=1500,\n",
    "                chunk_overlap=100,\n",
    ")\n",
    "\n",
    "splits = text_splitter.split_documents(doc)"
   ]
  },
  {
   "cell_type": "code",
   "execution_count": 9,
   "metadata": {},
   "outputs": [
    {
     "data": {
      "text/plain": [
       "137"
      ]
     },
     "execution_count": 9,
     "metadata": {},
     "output_type": "execute_result"
    }
   ],
   "source": [
    "len(splits)"
   ]
  },
  {
   "cell_type": "code",
   "execution_count": 10,
   "metadata": {},
   "outputs": [
    {
     "name": "stdout",
     "output_type": "stream",
     "text": [
      "page_content='Protection)  \\nBioStoffV  Biost offverordnung  (Ordinance on Biological Agents)  \\nBMUB  Bundesministerium für Umwelt, Naturschutz, Bau und Reaktorsicherheit  (Federal \\nMinistry for Environment, Nature Conservation, Building and Nuclear Safety)  \\nBOS  Behörden und Organisationen mit Sicherheitsa ufgaben  (Authorities and organizations \\nwith safety tasks)  \\nBSG  Bundessozialgericht  (Federal Social Court)  \\n  \\nCT computer tomograph  \\nCTG  cardiotocography  \\n  \\nDAB  Deutsches Arzneibuch  (German Pharmacopoeia)  \\nDAV  Durchgangsarztverfahren  (Procedure involving  trauma specialists accredited by the \\nemployer ʼs liability insurance associations)  \\nDG Deutsche Gesellschaft  (German Society)  \\nDGK  Deutsche Gesellschaft für Kardiologie  (German Society of Cardiology)  \\nDGKH  Deutsche Gesellschaft für Krankenhaushygiene  (Germ an Society of Hospital Hygiene)  \\nDGUV  Deutsche Gesetzliche Unfallversicherung  (German Social Accident Insurance)  \\nDIVI  Deutsche Interdisziplinäre Vereinigung für Intensiv - und Notfallmedizin  (German \\nInterdisciplinary Association for Intensive and Emergency  Medicine ) \\nDKE  Deutsche Kommission Elektrotechnik  (German Commission for Electrical, Electronic & \\nInformation Technologies ) \\nDKG  Deutsche Krankenhausgesellschaft  (German Hospital Federation)  \\nDSA  Digital subtraction angiography' metadata={'source': 'Q:\\\\daten\\\\982-BIM_int\\\\_MA\\\\Cao\\\\Langchain\\\\DIN-13080_06-2016_ENGLISCH.pdf', 'page': 11}\n"
     ]
    }
   ],
   "source": [
    "print(splits[25])"
   ]
  },
  {
   "cell_type": "markdown",
   "metadata": {},
   "source": [
    "## Build Vectorbase"
   ]
  },
  {
   "cell_type": "code",
   "execution_count": 11,
   "metadata": {},
   "outputs": [
    {
     "name": "stdout",
     "output_type": "stream",
     "text": [
      "Found model file at  C:\\\\\\\\Users\\\\\\\\shicong.cao\\\\\\\\.cache\\\\\\\\gpt4all\\\\ggml-all-MiniLM-L6-v2-f16.bin\n"
     ]
    }
   ],
   "source": [
    "from langchain.embeddings import GPT4AllEmbeddings\n",
    "embedding = GPT4AllEmbeddings()"
   ]
  },
  {
   "cell_type": "code",
   "execution_count": 12,
   "metadata": {},
   "outputs": [],
   "source": [
    "from langchain.vectorstores import Chroma"
   ]
  },
  {
   "cell_type": "code",
   "execution_count": 13,
   "metadata": {},
   "outputs": [],
   "source": [
    "persist_directory = 'Q:\\daten\\982-BIM_int\\_MA\\Cao\\Langchain\\chroma'"
   ]
  },
  {
   "cell_type": "code",
   "execution_count": 14,
   "metadata": {},
   "outputs": [],
   "source": [
    "vectordb= Chroma.from_documents(\n",
    "    documents=splits,\n",
    "    embedding=embedding,\n",
    "    persist_directory=persist_directory\n",
    ")"
   ]
  },
  {
   "cell_type": "code",
   "execution_count": 15,
   "metadata": {},
   "outputs": [
    {
     "name": "stdout",
     "output_type": "stream",
     "text": [
      "137\n"
     ]
    }
   ],
   "source": [
    "print(vectordb._collection.count())"
   ]
  },
  {
   "cell_type": "markdown",
   "metadata": {},
   "source": [
    "## Retrieve relevant pieces from Vectorbase"
   ]
  },
  {
   "cell_type": "code",
   "execution_count": 21,
   "metadata": {},
   "outputs": [],
   "source": [
    "question = \"Is there requirement for wet rooms in terms of barrier free?\""
   ]
  },
  {
   "cell_type": "code",
   "execution_count": 26,
   "metadata": {},
   "outputs": [],
   "source": [
    "docs = vectordb.similarity_search(question, k=5)"
   ]
  },
  {
   "cell_type": "code",
   "execution_count": 27,
   "metadata": {},
   "outputs": [
    {
     "data": {
      "text/plain": [
       "'multiresistenten -gramnegativen Stäbchen  (Hygiene measures for the \\ncontrol or colonization with multiresistant gram -negative rods)  \\nKRINKO, Infektionsprävention im Rahmen d er Pflege und Behandlung von \\nPatienten mit übertragbaren Krankheiten, Abschnitt 3.3 : Räumliche \\nUnterbringung (Infection prevention during nursing care and treatment \\nof patients with transmissible diseases, Section 3.3: Spatial \\naccommodation)  \\n  \\nPatient roo ms \\nincluding sanitary room  \\n   \\nA General  \\nAppropriate consideration of clearance . \\n B Hygiene  \\nAccording to the recommendations of the DGKH, it should be possible for \\nabout half of the rooms to be used as isolation rooms.  \\nWet room immediately accessible from the room . \\n \\n   B55EB1B3C7662F79D1B59483A53B9F2F82C98BEEB7939B8362DE64BB99B626987BF0460D90BD5ED1D09C61AC5C4DC88EA0069FFA18F73874A12A2EBB2ECA67CC313AF49141000AFE482C08060EBD23778CEF0775AAA4BF94E3726FD05D94523CEC09BC80B38ED0B3A35CA131A397AD3F87\\nNormen-Download-Beuth-Heinle; Wischer u. Partner Freie Architekten-KdNr.2388301-LfNr.8024709001-2017-07-03 13:37'"
      ]
     },
     "execution_count": 27,
     "metadata": {},
     "output_type": "execute_result"
    }
   ],
   "source": [
    "docs[].page_content"
   ]
  },
  {
   "cell_type": "code",
   "execution_count": 28,
   "metadata": {},
   "outputs": [
    {
     "data": {
      "text/plain": [
       "'therapy pool,  \\ncold therapy,  \\ncold chambers,  \\nrest room  \\nTreatment room   \\nA General  \\nRooms for external service providers are to be marked , if applicable.  \\nAppropriate areas for patient changing rooms and waiting areas . \\nFrom the organizational point of view, such supportive treatments are \\nperformed on the ward.  \\n \\nC Occupational health and safety  \\nConsider areas for staff (break r oom, lockers for valuables , wet rooms) . \\n \\nE Bibliography  \\nDIN 19643 (all parts), Treatment of water of swimming pools and baths  \\nKRINKO, Anforderungen der Hygiene an die funktionelle und bauliche \\nGestaltung von Einrichtungen in der Physiotherapie (Physikalisc he \\nTherapie) (Hygiene requirements for the functional and architectural \\ndesign  of physiotherapy installations (physical therapy))  \\nVDI 2089 Blatt  1, RTL -Anlagen für Schwimmhallen und Bäder ( Ventilation \\nand air conditioning installations for swimming baths a nd pools ) \\n   B55EB1B3C7662F79D1B59483A53B9F2F82C98BEEB7939B8362DE64BB99B626987BF0460D90BD5ED1D09C61AC5C4DC88EA0069FFA18F73874A12A2EBB2ECA67CC313AF49141000AFE482C08060EBD23778CEF0775AAA4BF94E3726FD05D94523CEC09BC80B38ED0B3A35CA131A397AD3F87\\nNormen-Download-Beuth-Heinle; Wischer u. Partner Freie Architekten-KdNr.2388301-LfNr.8024709001-2017-07-03 13:37'"
      ]
     },
     "execution_count": 28,
     "metadata": {},
     "output_type": "execute_result"
    }
   ],
   "source": [
    "docs[1].page_content"
   ]
  },
  {
   "cell_type": "code",
   "execution_count": 29,
   "metadata": {},
   "outputs": [
    {
     "data": {
      "text/plain": [
       "'systems    \\nA General  \\nThe location of the technical area s shall be allocated to the main users \\nand consumers, e.g. air conditioning to 1.09, in order to avoid long installation distances.  \\n B Hygiene  \\nWhen planning ventilation and air conditioning systems for medically \\nused rooms/f acilities, the hospital hygienist defines the room classes and \\nventilation/air conditioning requirements for hygiene (e.g. positive/negative pressure).  \\nRequirements according to the relevant legislation, guidelines and body of rules . \\nHeat exchangers are to  be planned in an air -cooled or adiabatic (dry) \\nmanner. Adequate outdoor positions are to be planned for placement \\n(noise). If wet heat exchangers are used, special consideration is to be \\ngiven to the site selection (indoor/outdoor) and to the cooling water quality (microbiological quality of circulation cooling water).  \\n E Bibliography  \\nDIN  1946 -4, Ventilation and air conditioning  \\n\\uf8e7 Ventilation in buildings \\nand rooms of health care   \\n  \\n \\n \\n   B55EB1B3C7662F79D1B59483A53B9F2F82C98BEEB7939B8362DE64BB99B626987BF0460D90BD5ED1D09C61AC5C4DC88EA0069FFA18F73874A12A2EBB2ECA67CC313AF49141000AFE482C08060EBD23778CEF0775AAA4BF94E3726FD05D94523CEC09BC80B38ED0B3A35CA131A397AD3F87\\nNormen-Download-Beuth-Heinle; Wischer u. Partner Freie Architekten-KdNr.2388301-LfNr.8024709001-2017-07-03 13:37'"
      ]
     },
     "execution_count": 29,
     "metadata": {},
     "output_type": "execute_result"
    }
   ],
   "source": [
    "docs[].page_content"
   ]
  },
  {
   "cell_type": "code",
   "execution_count": 30,
   "metadata": {},
   "outputs": [
    {
     "data": {
      "text/plain": [
       "'DIN  13080:2016- 06 \\n34 FUNCTIONAL AREA  \\nFunctional section  \\nSubsection  \\n- Subsubsection  Examples of rooms  \\nand areas, \\nexplanations of \\nallocation to (  ) Planning guidance notes  \\n2.06 Isolation care  \\n \\n \\n \\n \\n \\n   Patient rooms with \\nsanitary room and \\nairlock , \\npatient  airlock , \\nstaff airlock , \\nvisitor airlock , \\nsupply airlock , \\nwaste disposal airlock , \\n \\nFurther rooms in \\nanalogy to 2.00  A Gene ral \\nA separate subsection is required  for patients with highly infectious \\ndiseases.  \\n \\nB Hygiene  \\nWards for patients with infections shall be arranged and designed in a \\nway that prevents the further spread of diseases from one patient room to another and from  the rooms to other areas within the hospital.  \\nAll access areas are to be designed with airlock s. \\nSanitary room with wash basin, shower, toilet with WC with flusher - \\ndisinfector, touch -free taps . \\n \\n2.06.01 Infectious disease  \\ncare  \\n \\n2.06.02 Reverse isolation  \\n(KMT)  \\n  \\n \\n \\n   \\nSpace for waste bins . \\nSpace for hygiene trolleys in all airlock  areas . \\n \\nD Technical equipment  \\nAir conditioning system to support the protection objective.  \\n E Bibliography  \\nKRINKO, Anforderungen der Hygiene an Infektionskrankheiten (Hygiene \\nrequirements for infectious disease)  \\nKRINKO, Anforderungen an die Hygiene bei der medizinischen Versorgung \\nvon immunsupprimierten Patienten (Hygiene requirements for the \\ntreatment of immunocompromized patients)'"
      ]
     },
     "execution_count": 30,
     "metadata": {},
     "output_type": "execute_result"
    }
   ],
   "source": [
    "docs[3].page_content"
   ]
  },
  {
   "cell_type": "code",
   "execution_count": 31,
   "metadata": {},
   "outputs": [
    {
     "data": {
      "text/plain": [
       "'DIN  13080:2016- 06 \\n33 FUNCTIONAL AREA  \\nFunctional section  \\nSubsection  \\n- Subsubsection  Examples of rooms  \\nand areas, \\nexplanations of \\nallocation to (  ) Planning guidance notes  \\n2.05.02 Neonatal care   \\n \\n \\n \\n \\n \\n Patient room − child \\nwith parents,  \\ninfant room with \\nairlock , \\nbreast -feeding room,  \\nfood preparation,  \\ncommon room  − \\nparents,  \\novernight stay − parents  \\n \\nFurther rooms in \\nanalogy to 2.00  \\n A General  \\nArrange for access control and take precautions against baby -snatching . \\n B Hygiene  \\nSufficient clearance at four sides around the bed . \\nAccording to the recommendations of the DGKH, it should be possible for about half of the rooms to be used as iso lation rooms.  \\nChanging rooms for staff and visitors.  \\n \\nD Technique  \\nAir conditioning system that supports hygiene requirements  \\nand prevents infection risk . \\n \\n2.05.03 Paediatric intensive \\ncare  \\n \\n \\n \\n Patient rooms,  \\ncommon rooms − \\nparents,  \\novernight stay − parent s \\nbereavement room,  \\nstaff airlock , \\nvisitor airlock , \\npatient handover \\nairlock  \\n \\nFurther rooms in \\nanalogy to 2.03.01  \\n  \\n \\n A General  \\nSpecial aspects of development -oriented nursing care, reinforcement of \\nparent -child relationship . \\n \\nB Hygiene  \\nSufficient clearanc e at four sides around the bed . \\nAdequate proportion of rooms with airlock s. \\nIsolation rooms shall comply with the hygiene recommendations, e.g. of \\nthe DGKH.  \\nAirlock s for patient handover, staff, visitors and goods, depending on the'"
      ]
     },
     "execution_count": 31,
     "metadata": {},
     "output_type": "execute_result"
    }
   ],
   "source": [
    "docs[4].page_content"
   ]
  },
  {
   "cell_type": "code",
   "execution_count": 32,
   "metadata": {},
   "outputs": [
    {
     "name": "stdout",
     "output_type": "stream",
     "text": [
      "{'page': 25, 'source': 'Q:\\\\daten\\\\982-BIM_int\\\\_MA\\\\Cao\\\\Langchain\\\\DIN-13080_06-2016_ENGLISCH.pdf'}\n",
      "{'page': 23, 'source': 'Q:\\\\daten\\\\982-BIM_int\\\\_MA\\\\Cao\\\\Langchain\\\\DIN-13080_06-2016_ENGLISCH.pdf'}\n",
      "{'page': 51, 'source': 'Q:\\\\daten\\\\982-BIM_int\\\\_MA\\\\Cao\\\\Langchain\\\\DIN-13080_06-2016_ENGLISCH.pdf'}\n",
      "{'page': 33, 'source': 'Q:\\\\daten\\\\982-BIM_int\\\\_MA\\\\Cao\\\\Langchain\\\\DIN-13080_06-2016_ENGLISCH.pdf'}\n",
      "{'page': 32, 'source': 'Q:\\\\daten\\\\982-BIM_int\\\\_MA\\\\Cao\\\\Langchain\\\\DIN-13080_06-2016_ENGLISCH.pdf'}\n"
     ]
    }
   ],
   "source": [
    "for doc in docs:\n",
    "    print(doc.metadata)"
   ]
  }
 ],
 "metadata": {
  "kernelspec": {
   "display_name": "gpt",
   "language": "python",
   "name": "python3"
  },
  "language_info": {
   "codemirror_mode": {
    "name": "ipython",
    "version": 3
   },
   "file_extension": ".py",
   "mimetype": "text/x-python",
   "name": "python",
   "nbconvert_exporter": "python",
   "pygments_lexer": "ipython3",
   "version": "3.10.12"
  },
  "orig_nbformat": 4
 },
 "nbformat": 4,
 "nbformat_minor": 2
}
